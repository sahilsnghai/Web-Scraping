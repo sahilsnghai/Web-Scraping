{
 "cells": [
  {
   "cell_type": "code",
   "execution_count": 1,
   "id": "cec3d940",
   "metadata": {},
   "outputs": [
    {
     "name": "stdout",
     "output_type": "stream",
     "text": [
      "D:\\apps\\Projects\\WebScraping\n"
     ]
    }
   ],
   "source": [
    "cd D:\\apps\\Projects\\WebScraping"
   ]
  },
  {
   "cell_type": "code",
   "execution_count": 2,
   "id": "f791c6b7",
   "metadata": {},
   "outputs": [],
   "source": [
    "from app import db, crud, models, Schema"
   ]
  },
  {
   "cell_type": "code",
   "execution_count": 3,
   "id": "d03d252a",
   "metadata": {},
   "outputs": [],
   "source": [
    "session = db.get_session()"
   ]
  },
  {
   "cell_type": "code",
   "execution_count": 4,
   "id": "147bc399",
   "metadata": {},
   "outputs": [],
   "source": [
    "data = models.data\n",
    "data ={'asin': 'AMZNIDNUMBER4', 'title': 'Mark4',\"abc\":\"Nothing\"}"
   ]
  },
  {
   "cell_type": "code",
   "execution_count": 5,
   "id": "919f23b9",
   "metadata": {},
   "outputs": [],
   "source": [
    "from pydantic import BaseModel\n",
    "import uuid"
   ]
  },
  {
   "cell_type": "code",
   "execution_count": 6,
   "id": "c3b5fb30",
   "metadata": {},
   "outputs": [],
   "source": [
    "class ProductSchema(BaseModel):\n",
    "    asin:str\n",
    "    title:str"
   ]
  },
  {
   "cell_type": "code",
   "execution_count": 7,
   "id": "cb624ca8",
   "metadata": {},
   "outputs": [],
   "source": [
    "product= ProductSchema(**data)"
   ]
  },
  {
   "cell_type": "code",
   "execution_count": 8,
   "id": "6bdaac51",
   "metadata": {},
   "outputs": [
    {
     "data": {
      "text/plain": [
       "{'asin': 'AMZNIDNUMBER4', 'title': 'Mark4'}"
      ]
     },
     "execution_count": 8,
     "metadata": {},
     "output_type": "execute_result"
    }
   ],
   "source": [
    "product.dict()"
   ]
  },
  {
   "cell_type": "code",
   "execution_count": 9,
   "id": "5e606005",
   "metadata": {},
   "outputs": [
    {
     "data": {
      "text/plain": [
       "(Product(asin='AMZNIDNUMBER4', title='Mark4', brand=None, price_str='-100', country_of_origin=None),\n",
       " ProductScrapeEvent(uuid=UUID('cb45d557-7c80-11ed-b463-7cb27da2abfb'), asin='AMZNIDNUMBER4', title='Mark4', brand=None, country_of_origin=None, price_str='-100'))"
      ]
     },
     "execution_count": 9,
     "metadata": {},
     "output_type": "execute_result"
    }
   ],
   "source": [
    "crud.create_scrape_event(product.dict(),fresh=True)"
   ]
  },
  {
   "cell_type": "code",
   "execution_count": 10,
   "id": "51722974",
   "metadata": {},
   "outputs": [],
   "source": [
    "from pydantic import ValidationError\n",
    "data['uuid'] = uuid.uuid1()\n",
    "try:\n",
    "    Schema.ProductScrapeEventSchema(**data)\n",
    "except ValidationError as e:\n",
    "    print(e.json())"
   ]
  },
  {
   "cell_type": "code",
   "execution_count": null,
   "id": "5ed16bac",
   "metadata": {},
   "outputs": [],
   "source": []
  }
 ],
 "metadata": {
  "kernelspec": {
   "display_name": "Python 3 (ipykernel)",
   "language": "python",
   "name": "python3"
  },
  "language_info": {
   "codemirror_mode": {
    "name": "ipython",
    "version": 3
   },
   "file_extension": ".py",
   "mimetype": "text/x-python",
   "name": "python",
   "nbconvert_exporter": "python",
   "pygments_lexer": "ipython3",
   "version": "3.9.9"
  }
 },
 "nbformat": 4,
 "nbformat_minor": 5
}
