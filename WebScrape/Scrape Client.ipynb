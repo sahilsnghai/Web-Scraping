{
 "cells": [
  {
   "cell_type": "code",
   "execution_count": 1,
   "id": "0655d405",
   "metadata": {},
   "outputs": [
    {
     "name": "stdout",
     "output_type": "stream",
     "text": [
      "D:\\apps\\Projects\\WebScraping\n"
     ]
    }
   ],
   "source": [
    "cd D:\\apps\\Projects\\WebScraping"
   ]
  },
  {
   "cell_type": "code",
   "execution_count": 2,
   "id": "e1493277",
   "metadata": {},
   "outputs": [],
   "source": [
    "from app import scraper\n",
    "from requests_html import HTML\n",
    "from slugify import slugify\n",
    "import pprint"
   ]
  },
  {
   "cell_type": "code",
   "execution_count": 9,
   "id": "51ee2f0c",
   "metadata": {},
   "outputs": [],
   "source": [
    "url = \"https://www.amazon.in/Anker-Lightning-Headphone-Certified-Charging/dp/B08FGBM9LN/?_encoding=UTF8&pd_rd_w=zKshp&content-id=amzn1.sym.e932aeaf-89ea-47b8-9c31-e92696d33d85&pf_rd_p=e932aeaf-89ea-47b8-9c31-e92696d33d85&pf_rd_r=BXYBHAY45F2JTGWC18X8&pd_rd_wg=X94C2&pd_rd_r=ff4bd171-2ecb-4192-9ebf-bf7cd58ce376&ref_=pd_gw_ci_mcx_mr_hp_d\""
   ]
  },
  {
   "cell_type": "code",
   "execution_count": 4,
   "id": "c6a2fc83",
   "metadata": {},
   "outputs": [],
   "source": [
    "s =  scraper.Scraper(url=url,endless_scroll=True)"
   ]
  },
  {
   "cell_type": "code",
   "execution_count": 5,
   "id": "941d77a4",
   "metadata": {
    "scrolled": true
   },
   "outputs": [],
   "source": [
    "dataset = s.scrape()"
   ]
  },
  {
   "cell_type": "code",
   "execution_count": 6,
   "id": "a3e779b6",
   "metadata": {},
   "outputs": [
    {
     "data": {
      "text/plain": [
       "{'price_str': '₹6,999.00',\n",
       " 'title_str': 'Anker Lightning to 3.5mm Headphone Jack Adapter, [MFi Certified] 2-in-1 Audio & Lightning Charging Adapter for iPhone 12/12 Mini/12 Pro/12 Pro Max/11/XR/XS/X/8',\n",
       " 'compatible-devices': 'Headphones',\n",
       " 'connector-type': 'Auxiliary, Lightning',\n",
       " 'item-dimensions-lxwxh': '15.4 x 2.2 x 1.1 Centimeters',\n",
       " 'brand': 'Anker',\n",
       " 'item-weight': '14 Grams',\n",
       " 'manufacturer': '\\u200eAnker',\n",
       " 'model': '\\u200eAK-A3520H21',\n",
       " 'product-dimensions': '\\u200e15.4 x 2.2 x 1.1 cm; 14 Grams',\n",
       " 'item-model-number': '\\u200eAK-A3520H21',\n",
       " 'batteries-included': '\\u200eNo',\n",
       " 'batteries-required': '\\u200eNo',\n",
       " 'number-of-ports': '\\u200e2',\n",
       " 'country-of-origin': '\\u200eChina',\n",
       " 'asin': 'B08FGBM9LN',\n",
       " 'customer-reviews': '/* \\n    * Fix for UDP-1061. Average customer reviews has a small extra line on hover \\n    * https://omni-grok.amazon.com/xref/src/appgroup/websiteTemplates/retail/SoftlinesDetailPageAssets/udp-intl-lock/src/legacy.css?indexName=WebsiteTemplates#40\\n    */\\n    .noUnderline a:hover { \\n        text-decoration: none; \\n    }\\n\\n\\n \\n  3.9 out of 5 stars    \\n    363 ratings   \\n                    P.when(\\'A\\', \\'ready\\').execute(function(A) {\\n                        A.declarative(\\'acrLink-click-metrics\\', \\'click\\', { \"allowLinkDefault\" : true }, function(event){\\n                            if(window.ue) {\\n                                ue.count(\"acrLinkClickCount\", (ue.count(\"acrLinkClickCount\") || 0) + 1);\\n                            }\\n                        });\\n                    });\\n                \\n\\n            P.when(\\'A\\', \\'cf\\').execute(function(A) {\\n                A.declarative(\\'acrStarsLink-click-metrics\\', \\'click\\', { \"allowLinkDefault\" : true },  function(event){\\n                    if(window.ue) {\\n                        ue.count(\"acrStarsLinkWithPopoverClickCount\", (ue.count(\"acrStarsLinkWithPopoverClickCount\") || 0) + 1);\\n                    }\\n                });\\n            });\\n        \\n\\n 3.9 out of 5 stars',\n",
       " 'date-first-available': '21 April 2021'}"
      ]
     },
     "execution_count": 6,
     "metadata": {},
     "output_type": "execute_result"
    }
   ],
   "source": [
    "dataset"
   ]
  },
  {
   "cell_type": "code",
   "execution_count": null,
   "id": "9f8dea73",
   "metadata": {},
   "outputs": [],
   "source": []
  }
 ],
 "metadata": {
  "kernelspec": {
   "display_name": "Python 3 (ipykernel)",
   "language": "python",
   "name": "python3"
  },
  "language_info": {
   "codemirror_mode": {
    "name": "ipython",
    "version": 3
   },
   "file_extension": ".py",
   "mimetype": "text/x-python",
   "name": "python",
   "nbconvert_exporter": "python",
   "pygments_lexer": "ipython3",
   "version": "3.9.9"
  }
 },
 "nbformat": 4,
 "nbformat_minor": 5
}
