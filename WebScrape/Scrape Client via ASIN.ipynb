{
 "cells": [
  {
   "cell_type": "code",
   "execution_count": 7,
   "id": "0655d405",
   "metadata": {},
   "outputs": [
    {
     "name": "stdout",
     "output_type": "stream",
     "text": [
      "D:\\apps\\Projects\\WebScraping\n"
     ]
    }
   ],
   "source": [
    "cd D:\\apps\\Projects\\WebScraping"
   ]
  },
  {
   "cell_type": "code",
   "execution_count": 8,
   "id": "e1493277",
   "metadata": {},
   "outputs": [],
   "source": [
    "from app import worker\n",
    "from requests_html import HTML\n",
    "from slugify import slugify\n",
    "import pprint"
   ]
  },
  {
   "cell_type": "code",
   "execution_count": 9,
   "id": "51ee2f0c",
   "metadata": {},
   "outputs": [],
   "source": [
    "asin = \"B08JMC1988\""
   ]
  },
  {
   "cell_type": "code",
   "execution_count": 10,
   "id": "c6a2fc83",
   "metadata": {},
   "outputs": [],
   "source": [
    "s =  scraper.Scraper(asin=asin,endless_scroll=True)"
   ]
  },
  {
   "cell_type": "code",
   "execution_count": 11,
   "id": "941d77a4",
   "metadata": {
    "scrolled": true
   },
   "outputs": [
    {
     "name": "stdout",
     "output_type": "stream",
     "text": [
      "{'asin': 'B08JMC1988',\n",
      " 'audio-output-mode': '\\u200eStereo',\n",
      " 'audio-wattage': '\\u200e5 Watts',\n",
      " 'batteries': '\\u200e1 Lithium Ion batteries required. (included)',\n",
      " 'batteries-included': '\\u200eYes',\n",
      " 'batteries-required': '\\u200eYes',\n",
      " 'battery-average-life': '\\u200e10 Hours',\n",
      " 'battery-cell-composition': '\\u200eLithium Ion',\n",
      " 'best-sellers-rank': '#541 in Electronics (See Top 100 in Electronics)  #7 in '\n",
      "                      'Outdoor Speakers',\n",
      " 'brand': 'BoAt',\n",
      " 'connector-type': 'Wireless, Bluetooth, Auxiliary',\n",
      " 'country-of-origin': '\\u200eChina',\n",
      " 'customer-reviews': '/* \\n'\n",
      "                     '    * Fix for UDP-1061. Average customer reviews has a '\n",
      "                     'small extra line on hover \\n'\n",
      "                     '    * '\n",
      "                     'https://omni-grok.amazon.com/xref/src/appgroup/websiteTemplates/retail/SoftlinesDetailPageAssets/udp-intl-lock/src/legacy.css?indexName=WebsiteTemplates#40\\n'\n",
      "                     '    */\\n'\n",
      "                     '    .noUnderline a:hover { \\n'\n",
      "                     '        text-decoration: none; \\n'\n",
      "                     '    }\\n'\n",
      "                     '\\n'\n",
      "                     '\\n'\n",
      "                     ' \\n'\n",
      "                     '  4.1 out of 5 stars    \\n'\n",
      "                     '    18,182 ratings   \\n'\n",
      "                     \"                    P.when('A', \"\n",
      "                     \"'ready').execute(function(A) {\\n\"\n",
      "                     '                        '\n",
      "                     \"A.declarative('acrLink-click-metrics', 'click', { \"\n",
      "                     '\"allowLinkDefault\" : true }, function(event){\\n'\n",
      "                     '                            if(window.ue) {\\n'\n",
      "                     '                                '\n",
      "                     'ue.count(\"acrLinkClickCount\", '\n",
      "                     '(ue.count(\"acrLinkClickCount\") || 0) + 1);\\n'\n",
      "                     '                            }\\n'\n",
      "                     '                        });\\n'\n",
      "                     '                    });\\n'\n",
      "                     '                \\n'\n",
      "                     '\\n'\n",
      "                     \"            P.when('A', 'cf').execute(function(A) {\\n\"\n",
      "                     '                '\n",
      "                     \"A.declarative('acrStarsLink-click-metrics', 'click', { \"\n",
      "                     '\"allowLinkDefault\" : true },  function(event){\\n'\n",
      "                     '                    if(window.ue) {\\n'\n",
      "                     '                        '\n",
      "                     'ue.count(\"acrStarsLinkWithPopoverClickCount\", '\n",
      "                     '(ue.count(\"acrStarsLinkWithPopoverClickCount\") || 0) + '\n",
      "                     '1);\\n'\n",
      "                     '                    }\\n'\n",
      "                     '                });\\n'\n",
      "                     '            });\\n'\n",
      "                     '        \\n'\n",
      "                     '\\n'\n",
      "                     ' 4.1 out of 5 stars',\n",
      " 'date-first-available': '28 September 2021',\n",
      " 'generic-name': 'Speakers',\n",
      " 'importer': 'Imagine Marketing Ltd',\n",
      " 'includes-rechargable-battery': '\\u200eYes',\n",
      " 'item-dimensions-lxwxh': '15 x 15 x 2 Centimeters',\n",
      " 'item-weight': '\\u200e145 g',\n",
      " 'manufacturer': '\\u200eImagine Marketing Ltd, info@imaginemarketingindia.com',\n",
      " 'model-name': 'Stone 180',\n",
      " 'mounting-hardware': '\\u200eStone 180;Charging Cable;Audio Cable;User '\n",
      "                      'Manual;Warranty Card;Catalogue',\n",
      " 'mounting-type': '\\u200eTabletop',\n",
      " 'net-quantity': '1 Piece',\n",
      " 'number-of-items': '\\u200e6',\n",
      " 'packer': 'Imagine Marketing Ltd',\n",
      " 'power-source': '\\u200eBattery Powered',\n",
      " 'price_str': '₹1,299.00',\n",
      " 'product-dimensions': '\\u200e15 x 15 x 2 cm; 145 Grams',\n",
      " 'speaker-amplification-type': '\\u200eActive',\n",
      " 'speaker-connectivity': '\\u200eBluetooth, AUX',\n",
      " 'speaker-surround-sound-channel-configuration': '\\u200e1',\n",
      " 'speaker-type': 'Outdoor',\n",
      " 'special-feature': 'Wireless;Portable;Bluetooth',\n",
      " 'special-features': '\\u200eWireless;Portable;Bluetooth',\n",
      " 'title_str': 'boAt Stone 180 5W Bluetooth Speaker with Upto 10 Hours '\n",
      "              'Playback, 1.75\" Driver, IPX7 & TWS Feature(Black)',\n",
      " 'total-usb-ports': '\\u200e1',\n",
      " 'wattage': '\\u200e5 Watts'}\n"
     ]
    }
   ],
   "source": [
    "dataset = s.scrape()\n",
    "pprint.pprint(dataset)"
   ]
  },
  {
   "cell_type": "code",
   "execution_count": null,
   "id": "214a6f37",
   "metadata": {},
   "outputs": [],
   "source": []
  }
 ],
 "metadata": {
  "kernelspec": {
   "display_name": "Python 3 (ipykernel)",
   "language": "python",
   "name": "python3"
  },
  "language_info": {
   "codemirror_mode": {
    "name": "ipython",
    "version": 3
   },
   "file_extension": ".py",
   "mimetype": "text/x-python",
   "name": "python",
   "nbconvert_exporter": "python",
   "pygments_lexer": "ipython3",
   "version": "3.9.9"
  }
 },
 "nbformat": 4,
 "nbformat_minor": 5
}
