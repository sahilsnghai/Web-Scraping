{
 "cells": [
  {
   "cell_type": "code",
   "execution_count": 1,
   "id": "0655d405",
   "metadata": {},
   "outputs": [
    {
     "name": "stdout",
     "output_type": "stream",
     "text": [
      "D:\\apps\\Projects\\WebScraping\n"
     ]
    }
   ],
   "source": [
    "cd D:\\apps\\Projects\\WebScraping"
   ]
  },
  {
   "cell_type": "code",
   "execution_count": 2,
   "id": "e1493277",
   "metadata": {},
   "outputs": [],
   "source": [
    "from app import scraper\n",
    "from requests_html import HTML\n",
    "from slugify import slugify\n",
    "import pprint"
   ]
  },
  {
   "cell_type": "code",
   "execution_count": 3,
   "id": "51ee2f0c",
   "metadata": {},
   "outputs": [],
   "source": [
    "url = \"https://www.amazon.in/Anker-Lightning-Headphone-Certified-Charging/dp/B08FGBM9LN/?_encoding=UTF8&pd_rd_w=zKshp&content-id=amzn1.sym.e932aeaf-89ea-47b8-9c31-e92696d33d85&pf_rd_p=e932aeaf-89ea-47b8-9c31-e92696d33d85&pf_rd_r=BXYBHAY45F2JTGWC18X8&pd_rd_wg=X94C2&pd_rd_r=ff4bd171-2ecb-4192-9ebf-bf7cd58ce376&ref_=pd_gw_ci_mcx_mr_hp_d\""
   ]
  },
  {
   "cell_type": "code",
   "execution_count": 4,
   "id": "c6a2fc83",
   "metadata": {},
   "outputs": [],
   "source": [
    "s =  scraper.Scraper(url=url,endless_scroll=True)"
   ]
  },
  {
   "cell_type": "code",
   "execution_count": 5,
   "id": "941d77a4",
   "metadata": {},
   "outputs": [],
   "source": [
    "html_str = s.get()\n"
   ]
  },
  {
   "cell_type": "code",
   "execution_count": 6,
   "id": "ad919ca2",
   "metadata": {},
   "outputs": [],
   "source": [
    "html_obj = HTML(html=html_str)"
   ]
  },
  {
   "cell_type": "code",
   "execution_count": 7,
   "id": "78492269",
   "metadata": {},
   "outputs": [],
   "source": [
    "def extract_element_text(html_obj,element_id):\n",
    "    el = html_obj.find(element_id,first=True)\n",
    "    if not el:\n",
    "        return \"\"\n",
    "    return el.text"
   ]
  },
  {
   "cell_type": "code",
   "execution_count": 8,
   "id": "f615bd6d",
   "metadata": {},
   "outputs": [
    {
     "data": {
      "text/plain": [
       "'Anker Lightning to 3.5mm Headphone Jack Adapter, [MFi Certified] 2-in-1 Audio & Lightning Charging Adapter for iPhone 12/12 Mini/12 Pro/12 Pro Max/11/XR/XS/X/8'"
      ]
     },
     "execution_count": 8,
     "metadata": {},
     "output_type": "execute_result"
    }
   ],
   "source": [
    "title_str =extract_element_text( html_obj,'#productTitle')\n",
    "title_str"
   ]
  },
  {
   "cell_type": "code",
   "execution_count": 9,
   "id": "5e8b328e",
   "metadata": {},
   "outputs": [
    {
     "data": {
      "text/plain": [
       "'₹6,999.00'"
      ]
     },
     "execution_count": 9,
     "metadata": {},
     "output_type": "execute_result"
    }
   ],
   "source": [
    "price_str = extract_element_text(html_obj,'.a-offscreen')\n",
    "price_str"
   ]
  },
  {
   "cell_type": "code",
   "execution_count": 10,
   "id": "95b0bbc7",
   "metadata": {},
   "outputs": [],
   "source": [
    "def extract_tables(html_obj):\n",
    "     return html_obj.find(\"table\")"
   ]
  },
  {
   "cell_type": "code",
   "execution_count": 11,
   "id": "5f245a44",
   "metadata": {},
   "outputs": [],
   "source": [
    "tables=extract_tables(html_obj)"
   ]
  },
  {
   "cell_type": "code",
   "execution_count": 15,
   "id": "196c2ead",
   "metadata": {},
   "outputs": [],
   "source": [
    "def extract_tables_dataset(tables): \n",
    "    dataset = {}\n",
    "    for table in tables:\n",
    "        for tbody in table.element.getchildren():\n",
    "            for tr in tbody.getchildren():\n",
    "                row=[]\n",
    "                for col in tr.getchildren():\n",
    "                    content = \"\"\n",
    "                    try:\n",
    "                        content = col.text_content()\n",
    "                    except:\n",
    "                        pass\n",
    "                    if content != \"\":\n",
    "                        _content = content.strip()\n",
    "                        row.append(_content)\n",
    "                if len(row) !=2:\n",
    "                    continue\n",
    "                key = slugify(row[0])\n",
    "                value = row[1]\n",
    "                data = {}\n",
    "                if key in dataset:\n",
    "                    continue\n",
    "                else:\n",
    "                    dataset[key] = value\n",
    "    return dataset"
   ]
  },
  {
   "cell_type": "code",
   "execution_count": 16,
   "id": "ee528c7b",
   "metadata": {},
   "outputs": [],
   "source": [
    "#\"3:11:30\""
   ]
  },
  {
   "cell_type": "code",
   "execution_count": 17,
   "id": "6b24ea15",
   "metadata": {},
   "outputs": [
    {
     "name": "stdout",
     "output_type": "stream",
     "text": [
      "{'asin': 'B08FGBM9LN',\n",
      " 'batteries-included': '\\u200eNo',\n",
      " 'batteries-required': '\\u200eNo',\n",
      " 'brand': 'Anker',\n",
      " 'compatible-devices': 'Headphones',\n",
      " 'connector-type': 'Auxiliary, Lightning',\n",
      " 'country-of-origin': '\\u200eChina',\n",
      " 'customer-reviews': '/* \\n'\n",
      "                     '    * Fix for UDP-1061. Average customer reviews has a '\n",
      "                     'small extra line on hover \\n'\n",
      "                     '    * '\n",
      "                     'https://omni-grok.amazon.com/xref/src/appgroup/websiteTemplates/retail/SoftlinesDetailPageAssets/udp-intl-lock/src/legacy.css?indexName=WebsiteTemplates#40\\n'\n",
      "                     '    */\\n'\n",
      "                     '    .noUnderline a:hover { \\n'\n",
      "                     '        text-decoration: none; \\n'\n",
      "                     '    }\\n'\n",
      "                     '\\n'\n",
      "                     '\\n'\n",
      "                     ' \\n'\n",
      "                     '  3.9 out of 5 stars    \\n'\n",
      "                     '    363 ratings   \\n'\n",
      "                     \"                    P.when('A', \"\n",
      "                     \"'ready').execute(function(A) {\\n\"\n",
      "                     '                        '\n",
      "                     \"A.declarative('acrLink-click-metrics', 'click', { \"\n",
      "                     '\"allowLinkDefault\" : true }, function(event){\\n'\n",
      "                     '                            if(window.ue) {\\n'\n",
      "                     '                                '\n",
      "                     'ue.count(\"acrLinkClickCount\", '\n",
      "                     '(ue.count(\"acrLinkClickCount\") || 0) + 1);\\n'\n",
      "                     '                            }\\n'\n",
      "                     '                        });\\n'\n",
      "                     '                    });\\n'\n",
      "                     '                \\n'\n",
      "                     '\\n'\n",
      "                     \"            P.when('A', 'cf').execute(function(A) {\\n\"\n",
      "                     '                '\n",
      "                     \"A.declarative('acrStarsLink-click-metrics', 'click', { \"\n",
      "                     '\"allowLinkDefault\" : true },  function(event){\\n'\n",
      "                     '                    if(window.ue) {\\n'\n",
      "                     '                        '\n",
      "                     'ue.count(\"acrStarsLinkWithPopoverClickCount\", '\n",
      "                     '(ue.count(\"acrStarsLinkWithPopoverClickCount\") || 0) + '\n",
      "                     '1);\\n'\n",
      "                     '                    }\\n'\n",
      "                     '                });\\n'\n",
      "                     '            });\\n'\n",
      "                     '        \\n'\n",
      "                     '\\n'\n",
      "                     ' 3.9 out of 5 stars',\n",
      " 'date-first-available': '21 April 2021',\n",
      " 'item-dimensions-lxwxh': '15.4 x 2.2 x 1.1 Centimeters',\n",
      " 'item-model-number': '\\u200eAK-A3520H21',\n",
      " 'item-weight': '14 Grams',\n",
      " 'manufacturer': '\\u200eAnker',\n",
      " 'model': '\\u200eAK-A3520H21',\n",
      " 'number-of-ports': '\\u200e2',\n",
      " 'product-dimensions': '\\u200e15.4 x 2.2 x 1.1 cm; 14 Grams'}\n"
     ]
    }
   ],
   "source": [
    "dataset = extract_tables_dataset(tables)    \n",
    "pprint.pprint(dataset)"
   ]
  },
  {
   "cell_type": "code",
   "execution_count": null,
   "id": "0bcdcc3d",
   "metadata": {},
   "outputs": [],
   "source": []
  }
 ],
 "metadata": {
  "kernelspec": {
   "display_name": "Python 3 (ipykernel)",
   "language": "python",
   "name": "python3"
  },
  "language_info": {
   "codemirror_mode": {
    "name": "ipython",
    "version": 3
   },
   "file_extension": ".py",
   "mimetype": "text/x-python",
   "name": "python",
   "nbconvert_exporter": "python",
   "pygments_lexer": "ipython3",
   "version": "3.9.9"
  }
 },
 "nbformat": 4,
 "nbformat_minor": 5
}
