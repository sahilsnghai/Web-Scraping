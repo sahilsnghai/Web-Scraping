{
 "cells": [
  {
   "cell_type": "code",
   "execution_count": 1,
   "id": "0655d405",
   "metadata": {},
   "outputs": [
    {
     "name": "stdout",
     "output_type": "stream",
     "text": [
      "D:\\apps\\Projects\\WebScraping\n"
     ]
    }
   ],
   "source": [
    "cd D:\\apps\\Projects\\WebScraping"
   ]
  },
  {
   "cell_type": "code",
   "execution_count": 2,
   "id": "e1493277",
   "metadata": {},
   "outputs": [],
   "source": [
    "from app import worker, db,scraper\n",
    "import pprint"
   ]
  },
  {
   "cell_type": "code",
   "execution_count": 3,
   "id": "64918f2d",
   "metadata": {},
   "outputs": [],
   "source": [
    "session = db.get_session()"
   ]
  },
  {
   "cell_type": "code",
   "execution_count": 9,
   "id": "51ee2f0c",
   "metadata": {},
   "outputs": [],
   "source": [
    "asin = \"B09GFRV7L5\""
   ]
  },
  {
   "cell_type": "code",
   "execution_count": null,
   "id": "c6a2fc83",
   "metadata": {
    "scrolled": true
   },
   "outputs": [
    {
     "name": "stdout",
     "output_type": "stream",
     "text": [
      "{'price_str': '₹1,999.00', 'title_str': 'boAt Stone 620 Bluetooth Speaker with 12W RMS Stereo Sound, 10HRS Playtime, TWS Feature, IPX4, Multi-Compatibility Mode(Black)', 'brand': 'BoAt', 'model-name': 'BoAt Stone 620', 'speaker-type': 'Speaker', 'connector-type': 'Wireless, Bluetooth, Auxiliary, USB', 'special-feature': 'Wireless;Portable;Bluetooth', 'manufacturer': '\\u200eImagine Marketing Ltd, info@imaginemarketingindia.com', 'model': '\\u200eStone 620', 'product-dimensions': '\\u200e19 x 7 x 7 cm; 520 Grams', 'batteries': '\\u200e1 Lithium Ion batteries required. (included)', 'item-model-number': '\\u200eStone 620', 'special-features': '\\u200eWireless;Portable;Bluetooth', 'mounting-hardware': '\\u200eStone 620, Charging cable, Warranty card, Manual', 'number-of-items': '\\u200e4', 'audio-output-mode': '\\u200eStereo', 'speaker-surround-sound-channel-configuration': '\\u200e1', 'speakers-maximum-output-power': '\\u200e12 Watts', 'speaker-amplification-type': '\\u200eActive', 'speaker-connectivity': '\\u200eBluetooth and Aux', 'power-source': '\\u200eBattery Powered', 'battery-average-life': '\\u200e10 Hours', 'batteries-included': '\\u200eYes', 'batteries-required': '\\u200eYes', 'battery-cell-composition': '\\u200eLithium Ion', 'total-usb-ports': '\\u200e1', 'mounting-type': '\\u200eTabletop', 'includes-rechargable-battery': '\\u200eYes', 'country-of-origin': '\\u200eChina', 'imported-by': '\\u200eImagine Marketing Ltd', 'item-weight': '\\u200e520 g', 'asin': 'B09GFRV7L5', 'customer-reviews': '/* \\n    * Fix for UDP-1061. Average customer reviews has a small extra line on hover \\n    * https://omni-grok.amazon.com/xref/src/appgroup/websiteTemplates/retail/SoftlinesDetailPageAssets/udp-intl-lock/src/legacy.css?indexName=WebsiteTemplates#40\\n    */\\n    .noUnderline a:hover { \\n        text-decoration: none; \\n    }\\n\\n\\n \\n  4.1 out of 5 stars    \\n    2,472 ratings   \\n                    P.when(\\'A\\', \\'ready\\').execute(function(A) {\\n                        A.declarative(\\'acrLink-click-metrics\\', \\'click\\', { \"allowLinkDefault\" : true }, function(event){\\n                            if(window.ue) {\\n                                ue.count(\"acrLinkClickCount\", (ue.count(\"acrLinkClickCount\") || 0) + 1);\\n                            }\\n                        });\\n                    });\\n                \\n\\n            P.when(\\'A\\', \\'cf\\').execute(function(A) {\\n                A.declarative(\\'acrStarsLink-click-metrics\\', \\'click\\', { \"allowLinkDefault\" : true },  function(event){\\n                    if(window.ue) {\\n                        ue.count(\"acrStarsLinkWithPopoverClickCount\", (ue.count(\"acrStarsLinkWithPopoverClickCount\") || 0) + 1);\\n                    }\\n                });\\n            });\\n        \\n\\n 4.1 out of 5 stars', 'best-sellers-rank': '#123 in Electronics (See Top 100 in Electronics)  #1 in Outdoor Speakers', 'date-first-available': '21 December 2021', 'packer': 'Imagine Marketing Ltd', 'importer': 'Imagine Marketing Pvt Ltd., Mumbai, Maharashtra- 400093', 'item-dimensions-lxwxh': '19 x 7 x 7 Centimeters', 'net-quantity': '1 Piece', 'generic-name': 'Bluetooth Speaker'}\n"
     ]
    }
   ],
   "source": [
    "pprint.pprint(worker.scrape_asin(asin))"
   ]
  },
  {
   "cell_type": "code",
   "execution_count": null,
   "id": "63482b1d",
   "metadata": {},
   "outputs": [],
   "source": []
  }
 ],
 "metadata": {
  "kernelspec": {
   "display_name": "Python 3 (ipykernel)",
   "language": "python",
   "name": "python3"
  },
  "language_info": {
   "codemirror_mode": {
    "name": "ipython",
    "version": 3
   },
   "file_extension": ".py",
   "mimetype": "text/x-python",
   "name": "python",
   "nbconvert_exporter": "python",
   "pygments_lexer": "ipython3",
   "version": "3.9.9"
  }
 },
 "nbformat": 4,
 "nbformat_minor": 5
}
