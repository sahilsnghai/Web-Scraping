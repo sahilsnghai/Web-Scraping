{
 "cells": [
  {
   "cell_type": "code",
   "execution_count": 1,
   "id": "0655d405",
   "metadata": {},
   "outputs": [
    {
     "name": "stdout",
     "output_type": "stream",
     "text": [
      "D:\\apps\\Projects\\WebScraping\n"
     ]
    }
   ],
   "source": [
    "cd D:\\apps\\Projects\\WebScraping"
   ]
  },
  {
   "cell_type": "code",
   "execution_count": 2,
   "id": "e1493277",
   "metadata": {},
   "outputs": [],
   "source": [
    "from app import worker, db,scraper"
   ]
  },
  {
   "cell_type": "code",
   "execution_count": 3,
   "id": "64918f2d",
   "metadata": {},
   "outputs": [],
   "source": [
    "session = db.get_session()"
   ]
  },
  {
   "cell_type": "code",
   "execution_count": 4,
   "id": "51ee2f0c",
   "metadata": {},
   "outputs": [],
   "source": [
    "asin = \"B08FGBM9LN\""
   ]
  },
  {
   "cell_type": "code",
   "execution_count": 5,
   "id": "c6a2fc83",
   "metadata": {},
   "outputs": [
    {
     "name": "stdout",
     "output_type": "stream",
     "text": [
      "{'price_str': '₹6,999.00', 'title_str': 'Anker Lightning to 3.5mm Headphone Jack Adapter, [MFi Certified] 2-in-1 Audio & Lightning Charging Adapter for iPhone 12/12 Mini/12 Pro/12 Pro Max/11/XR/XS/X/8', 'compatible-devices': 'Headphones', 'connector-type': 'Auxiliary, Lightning', 'item-dimensions-lxwxh': '15.4 x 2.2 x 1.1 Centimeters', 'brand': 'Anker', 'item-weight': '14 Grams', 'manufacturer': '\\u200eAnker', 'model': '\\u200eAK-A3520H21', 'product-dimensions': '\\u200e15.4 x 2.2 x 1.1 cm; 14 Grams', 'item-model-number': '\\u200eAK-A3520H21', 'batteries-included': '\\u200eNo', 'batteries-required': '\\u200eNo', 'number-of-ports': '\\u200e2', 'country-of-origin': '\\u200eChina', 'asin': 'B08FGBM9LN', 'customer-reviews': '/* \\n    * Fix for UDP-1061. Average customer reviews has a small extra line on hover \\n    * https://omni-grok.amazon.com/xref/src/appgroup/websiteTemplates/retail/SoftlinesDetailPageAssets/udp-intl-lock/src/legacy.css?indexName=WebsiteTemplates#40\\n    */\\n    .noUnderline a:hover { \\n        text-decoration: none; \\n    }\\n\\n\\n \\n  3.9 out of 5 stars    \\n    363 ratings   \\n                    P.when(\\'A\\', \\'ready\\').execute(function(A) {\\n                        A.declarative(\\'acrLink-click-metrics\\', \\'click\\', { \"allowLinkDefault\" : true }, function(event){\\n                            if(window.ue) {\\n                                ue.count(\"acrLinkClickCount\", (ue.count(\"acrLinkClickCount\") || 0) + 1);\\n                            }\\n                        });\\n                    });\\n                \\n\\n            P.when(\\'A\\', \\'cf\\').execute(function(A) {\\n                A.declarative(\\'acrStarsLink-click-metrics\\', \\'click\\', { \"allowLinkDefault\" : true },  function(event){\\n                    if(window.ue) {\\n                        ue.count(\"acrStarsLinkWithPopoverClickCount\", (ue.count(\"acrStarsLinkWithPopoverClickCount\") || 0) + 1);\\n                    }\\n                });\\n            });\\n        \\n\\n 3.9 out of 5 stars', 'date-first-available': '21 April 2021'}\n",
      "B08FGBM9LN Product <asin=B08FGBM9LN>\n"
     ]
    }
   ],
   "source": [
    "worker.scrape_asin(asin)"
   ]
  },
  {
   "cell_type": "code",
   "execution_count": 6,
   "id": "53cff9de",
   "metadata": {},
   "outputs": [],
   "source": [
    "s =  scraper.Scraper(asin=asin,endless_scroll=True)\n",
    "dataset = s.scrape()"
   ]
  },
  {
   "cell_type": "code",
   "execution_count": 7,
   "id": "ac50d7be",
   "metadata": {},
   "outputs": [
    {
     "data": {
      "text/plain": [
       "{'price_str': '₹6,999.00',\n",
       " 'title_str': 'Anker Lightning to 3.5mm Headphone Jack Adapter, [MFi Certified] 2-in-1 Audio & Lightning Charging Adapter for iPhone 12/12 Mini/12 Pro/12 Pro Max/11/XR/XS/X/8',\n",
       " 'compatible-devices': 'Headphones',\n",
       " 'connector-type': 'Auxiliary, Lightning',\n",
       " 'item-dimensions-lxwxh': '15.4 x 2.2 x 1.1 Centimeters',\n",
       " 'brand': 'Anker',\n",
       " 'item-weight': '14 Grams',\n",
       " 'manufacturer': '\\u200eAnker',\n",
       " 'model': '\\u200eAK-A3520H21',\n",
       " 'product-dimensions': '\\u200e15.4 x 2.2 x 1.1 cm; 14 Grams',\n",
       " 'item-model-number': '\\u200eAK-A3520H21',\n",
       " 'batteries-included': '\\u200eNo',\n",
       " 'batteries-required': '\\u200eNo',\n",
       " 'number-of-ports': '\\u200e2',\n",
       " 'country-of-origin': '\\u200eChina',\n",
       " 'asin': 'B08FGBM9LN',\n",
       " 'customer-reviews': '/* \\n    * Fix for UDP-1061. Average customer reviews has a small extra line on hover \\n    * https://omni-grok.amazon.com/xref/src/appgroup/websiteTemplates/retail/SoftlinesDetailPageAssets/udp-intl-lock/src/legacy.css?indexName=WebsiteTemplates#40\\n    */\\n    .noUnderline a:hover { \\n        text-decoration: none; \\n    }\\n\\n\\n \\n  3.9 out of 5 stars    \\n    363 ratings   \\n                    P.when(\\'A\\', \\'ready\\').execute(function(A) {\\n                        A.declarative(\\'acrLink-click-metrics\\', \\'click\\', { \"allowLinkDefault\" : true }, function(event){\\n                            if(window.ue) {\\n                                ue.count(\"acrLinkClickCount\", (ue.count(\"acrLinkClickCount\") || 0) + 1);\\n                            }\\n                        });\\n                    });\\n                \\n\\n            P.when(\\'A\\', \\'cf\\').execute(function(A) {\\n                A.declarative(\\'acrStarsLink-click-metrics\\', \\'click\\', { \"allowLinkDefault\" : true },  function(event){\\n                    if(window.ue) {\\n                        ue.count(\"acrStarsLinkWithPopoverClickCount\", (ue.count(\"acrStarsLinkWithPopoverClickCount\") || 0) + 1);\\n                    }\\n                });\\n            });\\n        \\n\\n 3.9 out of 5 stars',\n",
       " 'date-first-available': '21 April 2021'}"
      ]
     },
     "execution_count": 7,
     "metadata": {},
     "output_type": "execute_result"
    }
   ],
   "source": [
    "dataset"
   ]
  },
  {
   "cell_type": "code",
   "execution_count": null,
   "id": "63482b1d",
   "metadata": {},
   "outputs": [],
   "source": []
  }
 ],
 "metadata": {
  "kernelspec": {
   "display_name": "Python 3 (ipykernel)",
   "language": "python",
   "name": "python3"
  },
  "language_info": {
   "codemirror_mode": {
    "name": "ipython",
    "version": 3
   },
   "file_extension": ".py",
   "mimetype": "text/x-python",
   "name": "python",
   "nbconvert_exporter": "python",
   "pygments_lexer": "ipython3",
   "version": "3.9.9"
  }
 },
 "nbformat": 4,
 "nbformat_minor": 5
}
