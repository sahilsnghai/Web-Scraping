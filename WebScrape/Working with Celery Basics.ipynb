{
 "cells": [
  {
   "cell_type": "code",
   "execution_count": 1,
   "id": "bb2e1970",
   "metadata": {
    "scrolled": true
   },
   "outputs": [
    {
     "name": "stdout",
     "output_type": "stream",
     "text": [
      "D:\\apps\\Projects\\WebScraping\n"
     ]
    }
   ],
   "source": [
    "cd D:\\apps\\Projects\\WebScraping"
   ]
  },
  {
   "cell_type": "code",
   "execution_count": 2,
   "id": "cae4c24e",
   "metadata": {},
   "outputs": [],
   "source": [
    "from app.worker import random_task"
   ]
  },
  {
   "cell_type": "code",
   "execution_count": 3,
   "id": "ece8d5c4",
   "metadata": {},
   "outputs": [
    {
     "name": "stdout",
     "output_type": "stream",
     "text": [
      "who throws a shoe. Honestly Sahil.\n"
     ]
    }
   ],
   "source": [
    "random_task(\"Sahil\")"
   ]
  },
  {
   "cell_type": "code",
   "execution_count": 4,
   "id": "350a9a77",
   "metadata": {},
   "outputs": [
    {
     "name": "stdout",
     "output_type": "stream",
     "text": [
      "who throws a shoe. Honestly Sahil.\n"
     ]
    }
   ],
   "source": [
    "random_task.s(\"Sahil\")()"
   ]
  },
  {
   "cell_type": "code",
   "execution_count": 5,
   "id": "23535ab2",
   "metadata": {},
   "outputs": [
    {
     "data": {
      "text/plain": [
       "<AsyncResult: c748b794-935b-4f8e-9bfd-f0debe083dc0>"
      ]
     },
     "execution_count": 5,
     "metadata": {},
     "output_type": "execute_result"
    }
   ],
   "source": [
    "random_task.delay(\"Sahil\")"
   ]
  },
  {
   "cell_type": "code",
   "execution_count": 6,
   "id": "69cc6000",
   "metadata": {},
   "outputs": [],
   "source": [
    "for i in range(1,100):\n",
    "    random_task.delay(\"Sahil\")"
   ]
  },
  {
   "cell_type": "code",
   "execution_count": 7,
   "id": "5f10f532",
   "metadata": {},
   "outputs": [],
   "source": [
    "for i in range(1,10):\n",
    "    random_task.apply_async(args=(f\"Sahil - {i}\", ), countdown=3)"
   ]
  },
  {
   "cell_type": "code",
   "execution_count": null,
   "id": "42c9a491",
   "metadata": {},
   "outputs": [],
   "source": []
  }
 ],
 "metadata": {
  "kernelspec": {
   "display_name": "Python 3 (ipykernel)",
   "language": "python",
   "name": "python3"
  },
  "language_info": {
   "codemirror_mode": {
    "name": "ipython",
    "version": 3
   },
   "file_extension": ".py",
   "mimetype": "text/x-python",
   "name": "python",
   "nbconvert_exporter": "python",
   "pygments_lexer": "ipython3",
   "version": "3.9.9"
  }
 },
 "nbformat": 4,
 "nbformat_minor": 5
}
