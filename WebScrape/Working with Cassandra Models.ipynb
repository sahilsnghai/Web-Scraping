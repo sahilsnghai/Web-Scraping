{
 "cells": [
  {
   "cell_type": "code",
   "execution_count": 1,
   "id": "d1677385",
   "metadata": {},
   "outputs": [
    {
     "name": "stdout",
     "output_type": "stream",
     "text": [
      "D:\\apps\\Projects\\WebScraping\n"
     ]
    }
   ],
   "source": [
    "cd D:\\apps\\Projects\\WebScraping"
   ]
  },
  {
   "cell_type": "code",
   "execution_count": 2,
   "id": "0bacaad1",
   "metadata": {},
   "outputs": [],
   "source": [
    "from app import crud, models,db,main"
   ]
  },
  {
   "cell_type": "code",
   "execution_count": 3,
   "id": "ee6f5609",
   "metadata": {},
   "outputs": [],
   "source": [
    "data = models.data\n",
    "data = {'asin': 'AMZNIDNUMBER5', 'title': 'Mark 5'}"
   ]
  },
  {
   "cell_type": "code",
   "execution_count": 4,
   "id": "04dd6e19",
   "metadata": {},
   "outputs": [],
   "source": [
    "session = db.get_session()\n",
    "main.on_startup()"
   ]
  },
  {
   "cell_type": "code",
   "execution_count": 5,
   "id": "0cfd9559",
   "metadata": {
    "scrolled": true
   },
   "outputs": [
    {
     "data": {
      "text/plain": [
       "(Product(asin='AMZNIDNUMBER5', title='Mark 5', brand=None, price_str='-100', country_of_origin=None),\n",
       " ProductScrapeEvent(uuid=UUID('d341a7bf-7c80-11ed-ae4f-7cb27da2abfb'), asin='AMZNIDNUMBER5', title='Mark 5', brand=None, country_of_origin=None, price_str='-100'))"
      ]
     },
     "execution_count": 5,
     "metadata": {},
     "output_type": "execute_result"
    }
   ],
   "source": [
    "crud.add_scrape_event(data,fresh=True)"
   ]
  },
  {
   "cell_type": "code",
   "execution_count": 6,
   "id": "c19c50fd",
   "metadata": {},
   "outputs": [
    {
     "data": {
      "text/plain": [
       "<bound method ModelQuerySet.timestamp of <cassandra.cqlengine.query.ModelQuerySet object at 0x00000265E196CF10>>"
      ]
     },
     "execution_count": 6,
     "metadata": {},
     "output_type": "execute_result"
    }
   ],
   "source": [
    "q = models.Product.objects().all()\n",
    "q._select_query()\n",
    "q.timestamp"
   ]
  },
  {
   "cell_type": "code",
   "execution_count": 7,
   "id": "8b25fe4c",
   "metadata": {},
   "outputs": [
    {
     "name": "stdout",
     "output_type": "stream",
     "text": [
      "SELECT * FROM scraper_app.product LIMIT 10000\n"
     ]
    }
   ],
   "source": [
    "print(models.Product.objects().all())"
   ]
  },
  {
   "cell_type": "code",
   "execution_count": 8,
   "id": "29e9a54f",
   "metadata": {},
   "outputs": [
    {
     "data": {
      "text/plain": [
       "{'asin': 'AMZNIDNUMBER5', 'title': 'Mark 5'}"
      ]
     },
     "execution_count": 8,
     "metadata": {},
     "output_type": "execute_result"
    }
   ],
   "source": [
    "data"
   ]
  },
  {
   "cell_type": "code",
   "execution_count": 9,
   "id": "fe66ac40",
   "metadata": {
    "scrolled": true
   },
   "outputs": [
    {
     "name": "stdout",
     "output_type": "stream",
     "text": [
      "AMZNIDNUMBER5\n",
      "AMZNIDNUMBER4\n",
      "testing1223\n",
      "AMZNIDNUMBER\n",
      "AMZNIDNUMBER2\n",
      "AMZNIDNUMBER3\n"
     ]
    }
   ],
   "source": [
    "asin = \"testing1223\"\n",
    "for obj in models.Product.objects().all():\n",
    "    print(obj.asin)"
   ]
  },
  {
   "cell_type": "code",
   "execution_count": 10,
   "id": "979d6e8b",
   "metadata": {},
   "outputs": [
    {
     "name": "stdout",
     "output_type": "stream",
     "text": [
      "Scrape Event for testing1223\n",
      "testing1223 5773ba7a-7b11-11ed-90ad-7cb27da2abfb\n",
      "testing1223 476f6d42-7b11-11ed-b622-7cb27da2abfb\n",
      "testing1223 4719d879-7b11-11ed-b5f8-7cb27da2abfb\n",
      "testing1223 56f35656-7b11-11ed-833f-7cb27da2abfb\n",
      "testing1223 48055089-7b11-11ed-9a19-7cb27da2abfb\n",
      "testing1223 3cada2ed-7b11-11ed-90c5-7cb27da2abfb\n",
      "testing1223 459fb04b-7b11-11ed-afd9-7cb27da2abfb\n",
      "testing1223 561d9976-7b11-11ed-b3d2-7cb27da2abfb\n",
      "testing1223 4602a442-7b11-11ed-8837-7cb27da2abfb\n",
      "testing1223 46516637-7b11-11ed-9943-7cb27da2abfb\n",
      "testing1223 5497a145-7b11-11ed-bc12-7cb27da2abfb\n",
      "testing1223 449ae3e9-7b11-11ed-85a5-7cb27da2abfb\n",
      "testing1223 3df95371-7b11-11ed-8eb3-7cb27da2abfb\n",
      "testing1223 3da01b53-7b11-11ed-a98e-7cb27da2abfb\n",
      "testing1223 896657c7-7b11-11ed-be57-7cb27da2abfb\n",
      "testing1223 47b1d8aa-7b11-11ed-9316-7cb27da2abfb\n",
      "testing1223 5686d519-7b11-11ed-9dd6-7cb27da2abfb\n",
      "testing1223 46aa24cc-7b11-11ed-ad68-7cb27da2abfb\n"
     ]
    }
   ],
   "source": [
    "if asin is not None:\n",
    "    print(f\"Scrape Event for {asin}\")\n",
    "    for obj in models.ProductScrapeEvent.objects.filter(asin=asin):\n",
    "        print(obj.asin , obj.uuid)\n"
   ]
  },
  {
   "cell_type": "code",
   "execution_count": 11,
   "id": "b5332f57",
   "metadata": {},
   "outputs": [
    {
     "name": "stdout",
     "output_type": "stream",
     "text": [
      "{'asin': 'AMZNIDNUMBER5', 'brand': None, 'country_of_origin': None, 'price_str': '-100', 'title': 'Mark 5'}\n",
      "{'asin': 'AMZNIDNUMBER4', 'brand': None, 'country_of_origin': None, 'price_str': '-100', 'title': 'Mark4'}\n",
      "{'asin': 'testing1223', 'brand': None, 'country_of_origin': None, 'price_str': 'Rs.324', 'title': 'AMZNIDNUMBER'}\n",
      "{'asin': 'AMZNIDNUMBER', 'brand': None, 'country_of_origin': None, 'price_str': '-1', 'title': 'Mark 1'}\n",
      "{'asin': 'AMZNIDNUMBER2', 'brand': None, 'country_of_origin': None, 'price_str': '-1', 'title': 'Mark 2'}\n",
      "{'asin': 'AMZNIDNUMBER3', 'brand': None, 'country_of_origin': None, 'price_str': '-1', 'title': 'Mark 3'}\n"
     ]
    }
   ],
   "source": [
    "for row in session.execute(\"SELECT * FROM scraper_app.product LIMIT 10000\"):\n",
    "    print(row)"
   ]
  },
  {
   "cell_type": "code",
   "execution_count": 12,
   "id": "2fb4e941",
   "metadata": {},
   "outputs": [
    {
     "name": "stdout",
     "output_type": "stream",
     "text": [
      "{'asin': 'AMZNIDNUMBER5', 'brand': None, 'country_of_origin': None, 'price_str': '-100', 'title': 'Mark 5'}\n",
      "{'asin': 'AMZNIDNUMBER4', 'brand': None, 'country_of_origin': None, 'price_str': '-100', 'title': 'Mark4'}\n",
      "{'asin': 'testing1223', 'brand': None, 'country_of_origin': None, 'price_str': 'Rs.324', 'title': 'AMZNIDNUMBER'}\n",
      "{'asin': 'AMZNIDNUMBER', 'brand': None, 'country_of_origin': None, 'price_str': '-1', 'title': 'Mark 1'}\n",
      "{'asin': 'AMZNIDNUMBER2', 'brand': None, 'country_of_origin': None, 'price_str': '-1', 'title': 'Mark 2'}\n",
      "{'asin': 'AMZNIDNUMBER3', 'brand': None, 'country_of_origin': None, 'price_str': '-1', 'title': 'Mark 3'}\n"
     ]
    }
   ],
   "source": [
    "q = models.Product.objects().all()\n",
    "cquery = str(q._select_query())\n",
    "for row in session.execute(cquery):\n",
    "    print(row)"
   ]
  }
 ],
 "metadata": {
  "kernelspec": {
   "display_name": "Python 3 (ipykernel)",
   "language": "python",
   "name": "python3"
  },
  "language_info": {
   "codemirror_mode": {
    "name": "ipython",
    "version": 3
   },
   "file_extension": ".py",
   "mimetype": "text/x-python",
   "name": "python",
   "nbconvert_exporter": "python",
   "pygments_lexer": "ipython3",
   "version": "3.9.9"
  }
 },
 "nbformat": 4,
 "nbformat_minor": 5
}
