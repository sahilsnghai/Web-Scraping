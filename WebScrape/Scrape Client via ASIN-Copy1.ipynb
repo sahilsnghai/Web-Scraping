{
 "cells": [
  {
   "cell_type": "code",
   "execution_count": 6,
   "id": "0655d405",
   "metadata": {},
   "outputs": [
    {
     "name": "stdout",
     "output_type": "stream",
     "text": [
      "D:\\apps\\Projects\\WebScraping\n"
     ]
    }
   ],
   "source": [
    "cd D:\\apps\\Projects\\WebScraping"
   ]
  },
  {
   "cell_type": "code",
   "execution_count": 7,
   "id": "e1493277",
   "metadata": {},
   "outputs": [],
   "source": [
    "from app import scraper\n",
    "from requests_html import HTML\n",
    "from slugify import slugify\n",
    "import pprint"
   ]
  },
  {
   "cell_type": "code",
   "execution_count": 8,
   "id": "51ee2f0c",
   "metadata": {},
   "outputs": [],
   "source": [
    "asin = \"B09PRG43F5\""
   ]
  },
  {
   "cell_type": "code",
   "execution_count": 9,
   "id": "c6a2fc83",
   "metadata": {},
   "outputs": [],
   "source": [
    "s =  scraper.Scraper(asin=asin,endless_scroll=True)"
   ]
  },
  {
   "cell_type": "code",
   "execution_count": 10,
   "id": "941d77a4",
   "metadata": {
    "scrolled": true
   },
   "outputs": [
    {
     "data": {
      "text/plain": [
       "{'price_str': '₹699.00',\n",
       " 'title_str': 'PARTISH Remote Control Car Remote Car for Kids /Toy Vehicle Motor RC Cars/Birthday Gifts for Kids/ Boys and Girls Age 3 4 5 6 7 8 9 10 Years Boys Girl (White)',\n",
       " 'brand': 'PARTISH',\n",
       " 'toy-vehicle-form': 'Car',\n",
       " 'material': 'Plastic',\n",
       " 'colour': 'WHITE',\n",
       " 'age-range-description': 'Kid',\n",
       " 'number-of-game-players': '\\u200e1',\n",
       " 'number-of-puzzle-pieces': '\\u200e1',\n",
       " 'assembly-required': '\\u200eNo',\n",
       " 'scale': '\\u200e1:24',\n",
       " 'batteries-required': '\\u200eYes',\n",
       " 'batteries-included': '\\u200eYes',\n",
       " 'material-type-s': '\\u200ePlastic',\n",
       " 'material-care-instructions': '\\u200eDo not wash.',\n",
       " 'remote-control-included': '\\u200eYes',\n",
       " 'color': '\\u200eWHITE',\n",
       " 'product-dimensions': '\\u200e17.78 x 8.89 x 6.1 cm; 250 Grams',\n",
       " 'batteries': '\\u200e3 AA batteries required. (included)',\n",
       " 'item-part-number': '\\u200eP2024',\n",
       " 'manufacturer-recommended-age': '\\u200e24 months and up',\n",
       " 'manufacturer': '\\u200ePartish',\n",
       " 'country-of-origin': '\\u200eChina',\n",
       " 'item-weight': '\\u200e250 g',\n",
       " 'asin': 'B09PRG43F5',\n",
       " 'customer-reviews': '/* \\n    * Fix for UDP-1061. Average customer reviews has a small extra line on hover \\n    * https://omni-grok.amazon.com/xref/src/appgroup/websiteTemplates/retail/SoftlinesDetailPageAssets/udp-intl-lock/src/legacy.css?indexName=WebsiteTemplates#40\\n    */\\n    .noUnderline a:hover { \\n        text-decoration: none; \\n    }\\n\\n\\n \\n  3.6 out of 5 stars    \\n    1,263 ratings   \\n                    P.when(\\'A\\', \\'ready\\').execute(function(A) {\\n                        A.declarative(\\'acrLink-click-metrics\\', \\'click\\', { \"allowLinkDefault\" : true }, function(event){\\n                            if(window.ue) {\\n                                ue.count(\"acrLinkClickCount\", (ue.count(\"acrLinkClickCount\") || 0) + 1);\\n                            }\\n                        });\\n                    });\\n                \\n\\n            P.when(\\'A\\', \\'cf\\').execute(function(A) {\\n                A.declarative(\\'acrStarsLink-click-metrics\\', \\'click\\', { \"allowLinkDefault\" : true },  function(event){\\n                    if(window.ue) {\\n                        ue.count(\"acrStarsLinkWithPopoverClickCount\", (ue.count(\"acrStarsLinkWithPopoverClickCount\") || 0) + 1);\\n                    }\\n                });\\n            });\\n        \\n\\n 3.6 out of 5 stars',\n",
       " 'best-sellers-rank': '#131 in Toys & Games (See Top 100 in Toys & Games)  #6 in Remote- & App-Controlled Cars',\n",
       " 'date-first-available': '2 January 2022',\n",
       " 'item-dimensions-lxwxh': '17.8 x 8.9 x 6.1 Centimeters',\n",
       " 'net-quantity': '1.00 count',\n",
       " 'included-components': 'Car, 3 AA batteries, Remote , Charging Adaptor'}"
      ]
     },
     "execution_count": 10,
     "metadata": {},
     "output_type": "execute_result"
    }
   ],
   "source": [
    "dataset = s.scrape()\n",
    "dataset"
   ]
  },
  {
   "cell_type": "code",
   "execution_count": null,
   "id": "214a6f37",
   "metadata": {},
   "outputs": [],
   "source": []
  }
 ],
 "metadata": {
  "kernelspec": {
   "display_name": "Python 3 (ipykernel)",
   "language": "python",
   "name": "python3"
  },
  "language_info": {
   "codemirror_mode": {
    "name": "ipython",
    "version": 3
   },
   "file_extension": ".py",
   "mimetype": "text/x-python",
   "name": "python",
   "nbconvert_exporter": "python",
   "pygments_lexer": "ipython3",
   "version": "3.9.9"
  }
 },
 "nbformat": 4,
 "nbformat_minor": 5
}
